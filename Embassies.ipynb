{
 "cells": [
  {
   "cell_type": "markdown",
   "metadata": {},
   "source": [
    "# Embassies\n",
    "Get all of the addresses of the embassies."
   ]
  },
  {
   "cell_type": "code",
   "execution_count": 1,
   "metadata": {
    "collapsed": true,
    "scrolled": true
   },
   "outputs": [],
   "source": [
    "import bs4\n",
    "import requests"
   ]
  },
  {
   "cell_type": "code",
   "execution_count": 2,
   "metadata": {
    "collapsed": true
   },
   "outputs": [],
   "source": [
    "with open('countries.txt') as o:\n",
    "    countries = o.read().splitlines()"
   ]
  },
  {
   "cell_type": "code",
   "execution_count": 3,
   "metadata": {},
   "outputs": [],
   "source": [
    "url = 'https://embassy.goabroad.com/embassies-in/india'\n",
    "r = requests.get(url)\n",
    "soup = bs4.BeautifulSoup(r.content, 'lxml')"
   ]
  },
  {
   "cell_type": "code",
   "execution_count": 4,
   "metadata": {},
   "outputs": [],
   "source": [
    "def parse_info(info):\n",
    "    infos = {}\n",
    "    for name, *details in info.find_all('div', {'class': None}): # only non-\"info-row\"\n",
    "        name = str(name.string)\n",
    "        text = parsers[name](details)\n",
    "        infos[name] = text\n",
    "    return infos\n",
    "        \n",
    "def parse_simple_details(details):\n",
    "    string, = details\n",
    "    return string.strip()\n",
    "\n",
    "def parse_details_with_breaks(details):\n",
    "    details = [detail.strip() for detail in details\n",
    "               if type(detail) == bs4.element.NavigableString]\n",
    "    return ', '.join(details)\n",
    "\n",
    "def parse_details_with_links(details):\n",
    "    details = [detail.text for detail in details if detail.name == 'a']\n",
    "    return ','.join(details)\n",
    "\n",
    "parsers = {'City': parse_simple_details, 'Phone': parse_details_with_breaks,\n",
    "           'Fax': parse_details_with_breaks, 'Details': parse_details_with_breaks,\n",
    "           'Office Hours': parse_details_with_breaks, 'Email': parse_details_with_links,\n",
    "           'Website': parse_details_with_links}"
   ]
  },
  {
   "cell_type": "code",
   "execution_count": 5,
   "metadata": {},
   "outputs": [],
   "source": [
    "embassies_info = {}\n",
    "embassies = soup.find('section', {'class': 'search-embassies program-listing'})\n",
    "for embassy in embassies.find_all('div', {'class': 'body'}):\n",
    "    embassy_info = {}\n",
    "    title = str(embassy.h6.string)\n",
    "    ## Parse embassy title into country and type (consulate vs embassy)\n",
    "    ...\n",
    "    address = embassy.find('span', 'embassy-address').string.strip()\n",
    "    info = embassy.find('section', {'class': 'embassy-info'})\n",
    "    embassies_info[title] = parse_info(info)"
   ]
  }
 ],
 "metadata": {
  "kernelspec": {
   "display_name": "Python 3",
   "language": "python",
   "name": "python3"
  },
  "language_info": {
   "codemirror_mode": {
    "name": "ipython",
    "version": 3
   },
   "file_extension": ".py",
   "mimetype": "text/x-python",
   "name": "python",
   "nbconvert_exporter": "python",
   "pygments_lexer": "ipython3",
   "version": "3.6.2"
  }
 },
 "nbformat": 4,
 "nbformat_minor": 2
}
